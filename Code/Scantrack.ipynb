{
 "cells": [
  {
   "cell_type": "code",
   "execution_count": 1,
   "id": "disciplinary-arizona",
   "metadata": {},
   "outputs": [],
   "source": [
    "import pandas as pd\n",
    "import numpy as np\n",
    "import os\n",
    "import sys\n",
    "from collections import OrderedDict"
   ]
  },
  {
   "cell_type": "code",
   "execution_count": 2,
   "id": "immune-error",
   "metadata": {},
   "outputs": [],
   "source": [
    "def openDataFile(name):\n",
    "    entries = os.listdir('data/')\n",
    "    i = 1\n",
    "    for v in entries:\n",
    "        print(str(i) + '.'+v)\n",
    "        i = i + 1\n",
    "    print('Seleccione el numero del archivo: ', name)\n",
    "    print('En caso de no tener el archivo en data puede ingresar el directorio')\n",
    "    aux = input()\n",
    "    if len(aux) <= 5:\n",
    "        i = 1\n",
    "        for v in entries:\n",
    "            if aux == str(i):\n",
    "                return pd.read_excel('data/' + v)\n",
    "            i = i + 1\n",
    "    else: \n",
    "        return pd.read_excel(v)"
   ]
  },
  {
   "cell_type": "code",
   "execution_count": 3,
   "id": "innovative-damage",
   "metadata": {},
   "outputs": [],
   "source": [
    "def setMonthandValues(db):\n",
    "    setActual = \"setMonthandValues\"\n",
    "    lineaActual = 1\n",
    "    month = []\n",
    "    year = []\n",
    "    value = []\n",
    "    for index, row in db.iterrows():\n",
    "        word = row['MES'].split()\n",
    "        month.append(word[0])\n",
    "        year.append(word[2])\n",
    "        value.append(row['ACTUAL'] + row['ANTERIOR'])\n",
    "    return month, year, value"
   ]
  },
  {
   "cell_type": "code",
   "execution_count": 4,
   "id": "angry-treasurer",
   "metadata": {},
   "outputs": [],
   "source": [
    "def errorMessage(setActual, lineaActual, valor): \n",
    "    print('ERROR')\n",
    "    print('Se ha detectado un valor inexistente en el Catalogo', setActual)\n",
    "    print('Revisar en el documento de datos en la linea: ', lineaActual)\n",
    "    print('El valor no registrado es: ', valor)\n",
    "    print('Favor de agregar el valor faltante a el catalago y volver a intentar')\n",
    "    print('Ingrese ENTER para continuar')\n",
    "    print('Ingrese cualquier otra tecla para salir')\n",
    "    aux = input()\n",
    "    if not aux:\n",
    "        return True\n",
    "    else: \n",
    "        sys.exit()"
   ]
  },
  {
   "cell_type": "code",
   "execution_count": 5,
   "id": "strange-orchestra",
   "metadata": {},
   "outputs": [],
   "source": [
    "def setGZ(gz, gzCat):\n",
    "    global setActual\n",
    "    global lineaActual\n",
    "    global valor\n",
    "    setActual = 'GZ'\n",
    "    lineaActual = 1\n",
    "    gz1 = []\n",
    "    dr = []\n",
    "    for value in gz:\n",
    "        valor = value\n",
    "        loc = gzCat.loc[gzCat.PLAZA == value]\n",
    "        dr.append(loc['DR'].iloc[0])\n",
    "        gz1.append(loc['GZ'].iloc[0])\n",
    "        lineaActual = lineaActual + 1\n",
    "    return dr, gz1"
   ]
  },
  {
   "cell_type": "code",
   "execution_count": 6,
   "id": "automotive-submission",
   "metadata": {},
   "outputs": [],
   "source": [
    "def setFab(fab):\n",
    "    global setActual\n",
    "    global lineaActual\n",
    "    global valor\n",
    "    setActual = 'Fabricante'\n",
    "    lineaActual = 1\n",
    "    fabr = []\n",
    "    for value in fab:\n",
    "        if value == \"HMEX\":\n",
    "            fabr.append(\"HMEX\")\n",
    "        else:\n",
    "            fabr.append(\"ABI\")\n",
    "    return fabr"
   ]
  },
  {
   "cell_type": "code",
   "execution_count": 7,
   "id": "alpha-champagne",
   "metadata": {},
   "outputs": [],
   "source": [
    "def calculoPorGz(data):\n",
    "    names = [\"Gz\", \"Valor\", \"Mes\"]\n",
    "    df = pd.DataFrame(data, names)\n",
    "    gp = df.groupby('Mes').sum().T\n",
    "    \n",
    "    return gp"
   ]
  },
  {
   "cell_type": "code",
   "execution_count": 17,
   "id": "architectural-pottery",
   "metadata": {},
   "outputs": [],
   "source": [
    "def generateDatabase():\n",
    "        \n",
    "    ## Lectura de documentos y datos\n",
    "    try: \n",
    "        ## Leer los archivos\n",
    "        db = openDataFile('Input base: Scantrack (Suprmkt)')\n",
    "            ## Quitar las plazas que no se ocupan\n",
    "        db = db[db.PLAZA != \"TOTAL AUTOS SCANNING MEXICO\"]\n",
    "        db = db[db.PLAZA != \"CHIHUAHUA\"]\n",
    "        db = db[db.PLAZA != \"JALAPA\"]\n",
    "        db = db[db.PLAZA != \"REYNOSA\"]\n",
    "        ## Inicializar valores\n",
    "        global setActual\n",
    "        global lineaActual\n",
    "        global value\n",
    "        setActual = ''\n",
    "        lineaActual = 10000\n",
    "    except: \n",
    "        print('ERROR')\n",
    "        print('Se ha generado un problema en la lectura del archivo')\n",
    "        print('Favor de revisar estos documentos y volver a intentar')  \n",
    "    \n",
    "    flag = True\n",
    "    while flag:\n",
    "        os.system('cls')\n",
    "        try:    ## Homologar los valores para simplificar la tabla             \n",
    "            mo, yr, va  = setMonthandValues(db)\n",
    "            month = pd.Series(mo)\n",
    "            year = pd.Series(yr)\n",
    "            value = pd.Series(va)\n",
    "            flag = False\n",
    "        except:\n",
    "            flag = errorMessage(setActual, lineaActual, valor)\n",
    "    \n",
    "    flag = True\n",
    "    while flag:\n",
    "        os.system('cls')\n",
    "        try:             \n",
    "            f = setFab(db[\"COMPAÑÍA\"])\n",
    "            fab = pd.Series(f)\n",
    "            flag = False\n",
    "        except:\n",
    "            flag = errorMessage(setActual, lineaActual, valor)\n",
    "    \n",
    "    ## Obtener todos los valores con la llave de GZ         \n",
    "    flag = True\n",
    "    while flag: \n",
    "        gzCat = pd.read_excel(\"data/CatalagoScantrack.xlsx\", sheet_name = 'Gz')\n",
    "        os.system('cls')\n",
    "        try:         \n",
    "            g, d = setGZ(db['PLAZA'], gzCat)\n",
    "            gz = pd.Series(g)\n",
    "            dr = pd.Series(d)\n",
    "            flag = False\n",
    "        except:  \n",
    "            flag = errorMessage(setActual, lineaActual, valor)\n",
    "    \n",
    "    gp = calculoPorGz([gz, value, db.MES])\n",
    "    \n",
    "    flag = True\n",
    "    while flag:\n",
    "        os.system('cls')\n",
    "        try:              \n",
    "            gp = calculoPorGz([gz, value, db.MES])\n",
    "            flag = False\n",
    "        except:\n",
    "            flag = errorMessage(setActual, lineaActual, valor)            \n",
    "            \n",
    "    data = [db['PLAZA'], dr, gz, db[\"COMPAÑÍA\"], db[\"MARCA\"], db[\"SKU\"], db[\"LIQUIDO\"], db[\"SEGMENTO PRESENTACION\"], db[\"DIAMANTE DE PRECIO CM\"],db[\"ENVASE UNIF\"] , db['PRESENTACION UNIF'],db[\"DIAMANTE DE PRECIO RM\"], db[\"BWP\"], db[\"Empaque\"],value, month, year]\n",
    "    name = [\"PLAZA\", \"DR\", \"Gz\", \"COMPAÑÍA\", \"MARCA\", \"SKU\", \"LIQUIDO\", \"SEGMENTO PRESENTACION\", \"DIAMANTE DE PRECIO CM\", \"ENVASE UNIF\", 'PRESENTACION UNIF', \"DIAMANTE DE PRECIO RM\", \"BWP\", \"Empaque\", \"Valores\", \"Año\", \"Mes\"]\n",
    "    db = pd.DataFrame(data, name).T\n",
    "    db.to_excel(\"Scantrack.xlsx\", sheet_name = \"Tabla_Para_Power_BI\", index = False)\n",
    "    \n",
    "\n",
    "\n",
    "    \n",
    "    return gp\n",
    "\n",
    "        \n"
   ]
  },
  {
   "cell_type": "code",
   "execution_count": 19,
   "id": "operational-hopkins",
   "metadata": {},
   "outputs": [
    {
     "name": "stdout",
     "output_type": "stream",
     "text": [
      "1.Base Off Modern Marzo 2021.xlsx\n",
      "2.Base Scantrack Marzo 2021.xlsx\n",
      "3.CatalagoScantrack.xlsx\n",
      "4.Catalogo711.xlsx\n",
      "5.CatalogoADFy3B.xlsx\n",
      "6.CatalogoCerveza.xlsx\n",
      "7.CatalogoCidra.xlsx\n",
      "8.CatalogoOxxo.xlsx\n",
      "9.CatalogoSIX.xlsx\n",
      "10.Check spaces.xlsx\n",
      "11.Input711.xlsx\n",
      "12.InputADFy3B.xlsx\n",
      "13.InputCerveza.xlsx\n",
      "14.InputCidra.xlsx\n",
      "15.InputOxxo.xlsx\n",
      "16.InputSIX.xlsx\n",
      "17.SellOutRegion.xlsx\n",
      "18.SellOutSix.xlsx\n",
      "19.~$Base Scantrack Marzo 2021.xlsx\n",
      "20.~$CatalagoScantrack.xlsx\n",
      "21.~$Catalogo711.xlsx\n",
      "22.~$CatalogoADFy3B.xlsx\n",
      "23.~$CatalogoOxxo.xlsx\n",
      "24.~$Input711.xlsx\n",
      "25.~$InputCidra.xlsx\n",
      "Seleccione el numero del archivo:  Input base: Scantrack (Suprmkt)\n",
      "En caso de no tener el archivo en data puede ingresar el directorio\n",
      "ERROR\n",
      "Se ha generado un problema en la lectura del archivo\n",
      "Favor de revisar estos documentos y volver a intentar\n",
      "ERROR\n",
      "Se ha detectado un valor inexistente en el Catalogo GZ\n",
      "Revisar en el documento de datos en la linea:  257240\n",
      "El valor no registrado es:  OCCIDENTE\n",
      "Favor de agregar el valor faltante a el catalago y volver a intentar\n",
      "Ingrese ENTER para continuar\n",
      "Ingrese cualquier otra tecla para salir\n"
     ]
    },
    {
     "ename": "KeyboardInterrupt",
     "evalue": "Interrupted by user",
     "output_type": "error",
     "traceback": [
      "\u001b[1;31m---------------------------------------------------------------------------\u001b[0m",
      "\u001b[1;31mKeyboardInterrupt\u001b[0m                         Traceback (most recent call last)",
      "\u001b[1;32m<ipython-input-19-ea8827438aaa>\u001b[0m in \u001b[0;36m<module>\u001b[1;34m\u001b[0m\n\u001b[1;32m----> 1\u001b[1;33m \u001b[0mgenerateDatabase\u001b[0m\u001b[1;33m(\u001b[0m\u001b[1;33m)\u001b[0m\u001b[1;33m\u001b[0m\u001b[1;33m\u001b[0m\u001b[0m\n\u001b[0m",
      "\u001b[1;32m<ipython-input-17-6f23461634f8>\u001b[0m in \u001b[0;36mgenerateDatabase\u001b[1;34m()\u001b[0m\n\u001b[0;32m     31\u001b[0m             \u001b[0mflag\u001b[0m \u001b[1;33m=\u001b[0m \u001b[1;32mFalse\u001b[0m\u001b[1;33m\u001b[0m\u001b[1;33m\u001b[0m\u001b[0m\n\u001b[0;32m     32\u001b[0m         \u001b[1;32mexcept\u001b[0m\u001b[1;33m:\u001b[0m\u001b[1;33m\u001b[0m\u001b[1;33m\u001b[0m\u001b[0m\n\u001b[1;32m---> 33\u001b[1;33m             \u001b[0mflag\u001b[0m \u001b[1;33m=\u001b[0m \u001b[0merrorMessage\u001b[0m\u001b[1;33m(\u001b[0m\u001b[0msetActual\u001b[0m\u001b[1;33m,\u001b[0m \u001b[0mlineaActual\u001b[0m\u001b[1;33m,\u001b[0m \u001b[0mvalor\u001b[0m\u001b[1;33m)\u001b[0m\u001b[1;33m\u001b[0m\u001b[1;33m\u001b[0m\u001b[0m\n\u001b[0m\u001b[0;32m     34\u001b[0m \u001b[1;33m\u001b[0m\u001b[0m\n\u001b[0;32m     35\u001b[0m     \u001b[0mflag\u001b[0m \u001b[1;33m=\u001b[0m \u001b[1;32mTrue\u001b[0m\u001b[1;33m\u001b[0m\u001b[1;33m\u001b[0m\u001b[0m\n",
      "\u001b[1;32m<ipython-input-4-632ed3401bf7>\u001b[0m in \u001b[0;36merrorMessage\u001b[1;34m(setActual, lineaActual, valor)\u001b[0m\n\u001b[0;32m      7\u001b[0m     \u001b[0mprint\u001b[0m\u001b[1;33m(\u001b[0m\u001b[1;34m'Ingrese ENTER para continuar'\u001b[0m\u001b[1;33m)\u001b[0m\u001b[1;33m\u001b[0m\u001b[1;33m\u001b[0m\u001b[0m\n\u001b[0;32m      8\u001b[0m     \u001b[0mprint\u001b[0m\u001b[1;33m(\u001b[0m\u001b[1;34m'Ingrese cualquier otra tecla para salir'\u001b[0m\u001b[1;33m)\u001b[0m\u001b[1;33m\u001b[0m\u001b[1;33m\u001b[0m\u001b[0m\n\u001b[1;32m----> 9\u001b[1;33m     \u001b[0maux\u001b[0m \u001b[1;33m=\u001b[0m \u001b[0minput\u001b[0m\u001b[1;33m(\u001b[0m\u001b[1;33m)\u001b[0m\u001b[1;33m\u001b[0m\u001b[1;33m\u001b[0m\u001b[0m\n\u001b[0m\u001b[0;32m     10\u001b[0m     \u001b[1;32mif\u001b[0m \u001b[1;32mnot\u001b[0m \u001b[0maux\u001b[0m\u001b[1;33m:\u001b[0m\u001b[1;33m\u001b[0m\u001b[1;33m\u001b[0m\u001b[0m\n\u001b[0;32m     11\u001b[0m         \u001b[1;32mreturn\u001b[0m \u001b[1;32mTrue\u001b[0m\u001b[1;33m\u001b[0m\u001b[1;33m\u001b[0m\u001b[0m\n",
      "\u001b[1;32m~\\Documents\\Automize\\env\\lib\\site-packages\\ipykernel\\kernelbase.py\u001b[0m in \u001b[0;36mraw_input\u001b[1;34m(self, prompt)\u001b[0m\n\u001b[0;32m    858\u001b[0m                 \u001b[1;34m\"raw_input was called, but this frontend does not support input requests.\"\u001b[0m\u001b[1;33m\u001b[0m\u001b[1;33m\u001b[0m\u001b[0m\n\u001b[0;32m    859\u001b[0m             )\n\u001b[1;32m--> 860\u001b[1;33m         return self._input_request(str(prompt),\n\u001b[0m\u001b[0;32m    861\u001b[0m             \u001b[0mself\u001b[0m\u001b[1;33m.\u001b[0m\u001b[0m_parent_ident\u001b[0m\u001b[1;33m,\u001b[0m\u001b[1;33m\u001b[0m\u001b[1;33m\u001b[0m\u001b[0m\n\u001b[0;32m    862\u001b[0m             \u001b[0mself\u001b[0m\u001b[1;33m.\u001b[0m\u001b[0m_parent_header\u001b[0m\u001b[1;33m,\u001b[0m\u001b[1;33m\u001b[0m\u001b[1;33m\u001b[0m\u001b[0m\n",
      "\u001b[1;32m~\\Documents\\Automize\\env\\lib\\site-packages\\ipykernel\\kernelbase.py\u001b[0m in \u001b[0;36m_input_request\u001b[1;34m(self, prompt, ident, parent, password)\u001b[0m\n\u001b[0;32m    902\u001b[0m             \u001b[1;32mexcept\u001b[0m \u001b[0mKeyboardInterrupt\u001b[0m\u001b[1;33m:\u001b[0m\u001b[1;33m\u001b[0m\u001b[1;33m\u001b[0m\u001b[0m\n\u001b[0;32m    903\u001b[0m                 \u001b[1;31m# re-raise KeyboardInterrupt, to truncate traceback\u001b[0m\u001b[1;33m\u001b[0m\u001b[1;33m\u001b[0m\u001b[1;33m\u001b[0m\u001b[0m\n\u001b[1;32m--> 904\u001b[1;33m                 \u001b[1;32mraise\u001b[0m \u001b[0mKeyboardInterrupt\u001b[0m\u001b[1;33m(\u001b[0m\u001b[1;34m\"Interrupted by user\"\u001b[0m\u001b[1;33m)\u001b[0m \u001b[1;32mfrom\u001b[0m \u001b[1;32mNone\u001b[0m\u001b[1;33m\u001b[0m\u001b[1;33m\u001b[0m\u001b[0m\n\u001b[0m\u001b[0;32m    905\u001b[0m             \u001b[1;32mexcept\u001b[0m \u001b[0mException\u001b[0m \u001b[1;32mas\u001b[0m \u001b[0me\u001b[0m\u001b[1;33m:\u001b[0m\u001b[1;33m\u001b[0m\u001b[1;33m\u001b[0m\u001b[0m\n\u001b[0;32m    906\u001b[0m                 \u001b[0mself\u001b[0m\u001b[1;33m.\u001b[0m\u001b[0mlog\u001b[0m\u001b[1;33m.\u001b[0m\u001b[0mwarning\u001b[0m\u001b[1;33m(\u001b[0m\u001b[1;34m\"Invalid Message:\"\u001b[0m\u001b[1;33m,\u001b[0m \u001b[0mexc_info\u001b[0m\u001b[1;33m=\u001b[0m\u001b[1;32mTrue\u001b[0m\u001b[1;33m)\u001b[0m\u001b[1;33m\u001b[0m\u001b[1;33m\u001b[0m\u001b[0m\n",
      "\u001b[1;31mKeyboardInterrupt\u001b[0m: Interrupted by user"
     ]
    },
    {
     "name": "stdout",
     "output_type": "stream",
     "text": [
      "1\n"
     ]
    }
   ],
   "source": [
    "generateDatabase()"
   ]
  },
  {
   "cell_type": "markdown",
   "id": "authentic-movie",
   "metadata": {},
   "source": [
    "## db.groupby('MES').sum().T"
   ]
  },
  {
   "cell_type": "code",
   "execution_count": 54,
   "id": "qualified-bikini",
   "metadata": {},
   "outputs": [],
   "source": [
    "res = list(OrderedDict.fromkeys(db.MES))"
   ]
  },
  {
   "cell_type": "code",
   "execution_count": 20,
   "id": "short-technician",
   "metadata": {},
   "outputs": [
    {
     "name": "stdout",
     "output_type": "stream",
     "text": [
      "1.Base Off Modern Marzo 2021.xlsx\n",
      "2.Base Scantrack Marzo 2021.xlsx\n",
      "3.CatalagoScantrack.xlsx\n",
      "4.Catalogo711.xlsx\n",
      "5.CatalogoADFy3B.xlsx\n",
      "6.CatalogoCerveza.xlsx\n",
      "7.CatalogoCidra.xlsx\n",
      "8.CatalogoOxxo.xlsx\n",
      "9.CatalogoSIX.xlsx\n",
      "10.Check spaces.xlsx\n",
      "11.Input711.xlsx\n",
      "12.InputADFy3B.xlsx\n",
      "13.InputCerveza.xlsx\n",
      "14.InputCidra.xlsx\n",
      "15.InputOxxo.xlsx\n",
      "16.InputSIX.xlsx\n",
      "17.SellOutRegion.xlsx\n",
      "18.SellOutSix.xlsx\n",
      "19.~$Base Scantrack Marzo 2021.xlsx\n",
      "20.~$CatalagoScantrack.xlsx\n",
      "21.~$Catalogo711.xlsx\n",
      "22.~$CatalogoADFy3B.xlsx\n",
      "23.~$CatalogoOxxo.xlsx\n",
      "24.~$Input711.xlsx\n",
      "25.~$InputCidra.xlsx\n",
      "Seleccione el numero del archivo:  Input base: Scantrack (Suprmkt)\n",
      "En caso de no tener el archivo en data puede ingresar el directorio\n",
      "2\n"
     ]
    }
   ],
   "source": [
    "        db = pd.read_excel(\"data/Base Scantrack Marzo 2021.xlsx\")\n",
    "        db = openDataFile('Input base: Scantrack (Suprmkt)')\n",
    "            ## Quitar las plazas que no se ocupan\n",
    "        db = db[db.PLAZA != \"TOTAL AUTOS SCANNING MEXICO\"]\n",
    "        db = db[db.PLAZA != \"CHIHUAHUA\"]\n",
    "        db = db[db.PLAZA != \"JALAPA\"]\n",
    "        db = db[db.PLAZA != \"REYNOSA\"]\n",
    "        mo, yr, va  = setMonthandValues(db)\n",
    "        month = pd.Series(mo)\n",
    "        year = pd.Series(yr)\n",
    "        value = pd.Series(va)\n",
    "        f = setFab(db[\"COMPAÑÍA\"])\n",
    "        fab = pd.Series(f)\n",
    "        gzCat = pd.read_excel(\"data/CatalagoScantrack.xlsx\", sheet_name = 'Gz')\n",
    "        g, d = setGZ(db['PLAZA'], gzCat)\n",
    "        gz = pd.Series(g)\n",
    "        dr = pd.Series(d)"
   ]
  },
  {
   "cell_type": "code",
   "execution_count": 21,
   "id": "quality-assignment",
   "metadata": {},
   "outputs": [
    {
     "data": {
      "text/plain": [
       "928       Enero de 2020\n",
       "929       Enero de 2020\n",
       "930       Enero de 2020\n",
       "931       Enero de 2020\n",
       "932       Enero de 2020\n",
       "              ...      \n",
       "281579    Marzo de 2021\n",
       "281580    Marzo de 2021\n",
       "281581    Marzo de 2021\n",
       "281582    Marzo de 2021\n",
       "281583    Marzo de 2021\n",
       "Name: MES, Length: 257239, dtype: object"
      ]
     },
     "execution_count": 21,
     "metadata": {},
     "output_type": "execute_result"
    }
   ],
   "source": [
    "db.MES"
   ]
  },
  {
   "cell_type": "code",
   "execution_count": 34,
   "id": "stable-characterization",
   "metadata": {},
   "outputs": [],
   "source": [
    "data = [gz, value, db.MES]\n",
    "names = [\"Gz\", \"Valor\", \"Mes\"]\n",
    "df = pd.DataFrame(data, names).T"
   ]
  },
  {
   "cell_type": "code",
   "execution_count": 36,
   "id": "silver-chamber",
   "metadata": {},
   "outputs": [
    {
     "ename": "KeyError",
     "evalue": "'Mes'",
     "output_type": "error",
     "traceback": [
      "\u001b[1;31m---------------------------------------------------------------------------\u001b[0m",
      "\u001b[1;31mKeyError\u001b[0m                                  Traceback (most recent call last)",
      "\u001b[1;32m<ipython-input-36-f8f3a162467d>\u001b[0m in \u001b[0;36m<module>\u001b[1;34m\u001b[0m\n\u001b[1;32m----> 1\u001b[1;33m \u001b[0mgp\u001b[0m \u001b[1;33m=\u001b[0m \u001b[0mdb\u001b[0m\u001b[1;33m.\u001b[0m\u001b[0mgroupby\u001b[0m\u001b[1;33m(\u001b[0m\u001b[1;34m'Mes'\u001b[0m\u001b[1;33m)\u001b[0m\u001b[1;33m.\u001b[0m\u001b[0msum\u001b[0m\u001b[1;33m(\u001b[0m\u001b[1;33m)\u001b[0m\u001b[1;33m.\u001b[0m\u001b[0mT\u001b[0m\u001b[1;33m\u001b[0m\u001b[1;33m\u001b[0m\u001b[0m\n\u001b[0m",
      "\u001b[1;32m~\\Documents\\Automize\\env\\lib\\site-packages\\pandas\\core\\frame.py\u001b[0m in \u001b[0;36mgroupby\u001b[1;34m(self, by, axis, level, as_index, sort, group_keys, squeeze, observed, dropna)\u001b[0m\n\u001b[0;32m   6715\u001b[0m         \u001b[0maxis\u001b[0m \u001b[1;33m=\u001b[0m \u001b[0mself\u001b[0m\u001b[1;33m.\u001b[0m\u001b[0m_get_axis_number\u001b[0m\u001b[1;33m(\u001b[0m\u001b[0maxis\u001b[0m\u001b[1;33m)\u001b[0m\u001b[1;33m\u001b[0m\u001b[1;33m\u001b[0m\u001b[0m\n\u001b[0;32m   6716\u001b[0m \u001b[1;33m\u001b[0m\u001b[0m\n\u001b[1;32m-> 6717\u001b[1;33m         return DataFrameGroupBy(\n\u001b[0m\u001b[0;32m   6718\u001b[0m             \u001b[0mobj\u001b[0m\u001b[1;33m=\u001b[0m\u001b[0mself\u001b[0m\u001b[1;33m,\u001b[0m\u001b[1;33m\u001b[0m\u001b[1;33m\u001b[0m\u001b[0m\n\u001b[0;32m   6719\u001b[0m             \u001b[0mkeys\u001b[0m\u001b[1;33m=\u001b[0m\u001b[0mby\u001b[0m\u001b[1;33m,\u001b[0m\u001b[1;33m\u001b[0m\u001b[1;33m\u001b[0m\u001b[0m\n",
      "\u001b[1;32m~\\Documents\\Automize\\env\\lib\\site-packages\\pandas\\core\\groupby\\groupby.py\u001b[0m in \u001b[0;36m__init__\u001b[1;34m(self, obj, keys, axis, level, grouper, exclusions, selection, as_index, sort, group_keys, squeeze, observed, mutated, dropna)\u001b[0m\n\u001b[0;32m    558\u001b[0m             \u001b[1;32mfrom\u001b[0m \u001b[0mpandas\u001b[0m\u001b[1;33m.\u001b[0m\u001b[0mcore\u001b[0m\u001b[1;33m.\u001b[0m\u001b[0mgroupby\u001b[0m\u001b[1;33m.\u001b[0m\u001b[0mgrouper\u001b[0m \u001b[1;32mimport\u001b[0m \u001b[0mget_grouper\u001b[0m\u001b[1;33m\u001b[0m\u001b[1;33m\u001b[0m\u001b[0m\n\u001b[0;32m    559\u001b[0m \u001b[1;33m\u001b[0m\u001b[0m\n\u001b[1;32m--> 560\u001b[1;33m             grouper, exclusions, obj = get_grouper(\n\u001b[0m\u001b[0;32m    561\u001b[0m                 \u001b[0mobj\u001b[0m\u001b[1;33m,\u001b[0m\u001b[1;33m\u001b[0m\u001b[1;33m\u001b[0m\u001b[0m\n\u001b[0;32m    562\u001b[0m                 \u001b[0mkeys\u001b[0m\u001b[1;33m,\u001b[0m\u001b[1;33m\u001b[0m\u001b[1;33m\u001b[0m\u001b[0m\n",
      "\u001b[1;32m~\\Documents\\Automize\\env\\lib\\site-packages\\pandas\\core\\groupby\\grouper.py\u001b[0m in \u001b[0;36mget_grouper\u001b[1;34m(obj, key, axis, level, sort, observed, mutated, validate, dropna)\u001b[0m\n\u001b[0;32m    809\u001b[0m                 \u001b[0min_axis\u001b[0m\u001b[1;33m,\u001b[0m \u001b[0mname\u001b[0m\u001b[1;33m,\u001b[0m \u001b[0mlevel\u001b[0m\u001b[1;33m,\u001b[0m \u001b[0mgpr\u001b[0m \u001b[1;33m=\u001b[0m \u001b[1;32mFalse\u001b[0m\u001b[1;33m,\u001b[0m \u001b[1;32mNone\u001b[0m\u001b[1;33m,\u001b[0m \u001b[0mgpr\u001b[0m\u001b[1;33m,\u001b[0m \u001b[1;32mNone\u001b[0m\u001b[1;33m\u001b[0m\u001b[1;33m\u001b[0m\u001b[0m\n\u001b[0;32m    810\u001b[0m             \u001b[1;32melse\u001b[0m\u001b[1;33m:\u001b[0m\u001b[1;33m\u001b[0m\u001b[1;33m\u001b[0m\u001b[0m\n\u001b[1;32m--> 811\u001b[1;33m                 \u001b[1;32mraise\u001b[0m \u001b[0mKeyError\u001b[0m\u001b[1;33m(\u001b[0m\u001b[0mgpr\u001b[0m\u001b[1;33m)\u001b[0m\u001b[1;33m\u001b[0m\u001b[1;33m\u001b[0m\u001b[0m\n\u001b[0m\u001b[0;32m    812\u001b[0m         \u001b[1;32melif\u001b[0m \u001b[0misinstance\u001b[0m\u001b[1;33m(\u001b[0m\u001b[0mgpr\u001b[0m\u001b[1;33m,\u001b[0m \u001b[0mGrouper\u001b[0m\u001b[1;33m)\u001b[0m \u001b[1;32mand\u001b[0m \u001b[0mgpr\u001b[0m\u001b[1;33m.\u001b[0m\u001b[0mkey\u001b[0m \u001b[1;32mis\u001b[0m \u001b[1;32mnot\u001b[0m \u001b[1;32mNone\u001b[0m\u001b[1;33m:\u001b[0m\u001b[1;33m\u001b[0m\u001b[1;33m\u001b[0m\u001b[0m\n\u001b[0;32m    813\u001b[0m             \u001b[1;31m# Add key to exclusions\u001b[0m\u001b[1;33m\u001b[0m\u001b[1;33m\u001b[0m\u001b[1;33m\u001b[0m\u001b[0m\n",
      "\u001b[1;31mKeyError\u001b[0m: 'Mes'"
     ]
    }
   ],
   "source": [
    "gp = db.groupby('Mes').sum().T"
   ]
  },
  {
   "cell_type": "code",
   "execution_count": 35,
   "id": "productive-functionality",
   "metadata": {},
   "outputs": [
    {
     "data": {
      "text/html": [
       "<div>\n",
       "<style scoped>\n",
       "    .dataframe tbody tr th:only-of-type {\n",
       "        vertical-align: middle;\n",
       "    }\n",
       "\n",
       "    .dataframe tbody tr th {\n",
       "        vertical-align: top;\n",
       "    }\n",
       "\n",
       "    .dataframe thead th {\n",
       "        text-align: right;\n",
       "    }\n",
       "</style>\n",
       "<table border=\"1\" class=\"dataframe\">\n",
       "  <thead>\n",
       "    <tr style=\"text-align: right;\">\n",
       "      <th></th>\n",
       "      <th>Gz</th>\n",
       "      <th>Valor</th>\n",
       "      <th>Mes</th>\n",
       "    </tr>\n",
       "  </thead>\n",
       "  <tbody>\n",
       "    <tr>\n",
       "      <th>0</th>\n",
       "      <td>Noroeste</td>\n",
       "      <td>0.24</td>\n",
       "      <td>NaN</td>\n",
       "    </tr>\n",
       "    <tr>\n",
       "      <th>1</th>\n",
       "      <td>Noroeste</td>\n",
       "      <td>13.61</td>\n",
       "      <td>NaN</td>\n",
       "    </tr>\n",
       "    <tr>\n",
       "      <th>2</th>\n",
       "      <td>Noroeste</td>\n",
       "      <td>1.2</td>\n",
       "      <td>NaN</td>\n",
       "    </tr>\n",
       "    <tr>\n",
       "      <th>3</th>\n",
       "      <td>Noroeste</td>\n",
       "      <td>0.03</td>\n",
       "      <td>NaN</td>\n",
       "    </tr>\n",
       "    <tr>\n",
       "      <th>4</th>\n",
       "      <td>Noroeste</td>\n",
       "      <td>0.07</td>\n",
       "      <td>NaN</td>\n",
       "    </tr>\n",
       "    <tr>\n",
       "      <th>...</th>\n",
       "      <td>...</td>\n",
       "      <td>...</td>\n",
       "      <td>...</td>\n",
       "    </tr>\n",
       "    <tr>\n",
       "      <th>281579</th>\n",
       "      <td>NaN</td>\n",
       "      <td>NaN</td>\n",
       "      <td>Marzo de 2021</td>\n",
       "    </tr>\n",
       "    <tr>\n",
       "      <th>281580</th>\n",
       "      <td>NaN</td>\n",
       "      <td>NaN</td>\n",
       "      <td>Marzo de 2021</td>\n",
       "    </tr>\n",
       "    <tr>\n",
       "      <th>281581</th>\n",
       "      <td>NaN</td>\n",
       "      <td>NaN</td>\n",
       "      <td>Marzo de 2021</td>\n",
       "    </tr>\n",
       "    <tr>\n",
       "      <th>281582</th>\n",
       "      <td>NaN</td>\n",
       "      <td>NaN</td>\n",
       "      <td>Marzo de 2021</td>\n",
       "    </tr>\n",
       "    <tr>\n",
       "      <th>281583</th>\n",
       "      <td>NaN</td>\n",
       "      <td>NaN</td>\n",
       "      <td>Marzo de 2021</td>\n",
       "    </tr>\n",
       "  </tbody>\n",
       "</table>\n",
       "<p>279845 rows × 3 columns</p>\n",
       "</div>"
      ],
      "text/plain": [
       "              Gz  Valor            Mes\n",
       "0       Noroeste   0.24            NaN\n",
       "1       Noroeste  13.61            NaN\n",
       "2       Noroeste    1.2            NaN\n",
       "3       Noroeste   0.03            NaN\n",
       "4       Noroeste   0.07            NaN\n",
       "...          ...    ...            ...\n",
       "281579       NaN    NaN  Marzo de 2021\n",
       "281580       NaN    NaN  Marzo de 2021\n",
       "281581       NaN    NaN  Marzo de 2021\n",
       "281582       NaN    NaN  Marzo de 2021\n",
       "281583       NaN    NaN  Marzo de 2021\n",
       "\n",
       "[279845 rows x 3 columns]"
      ]
     },
     "execution_count": 35,
     "metadata": {},
     "output_type": "execute_result"
    }
   ],
   "source": [
    "df"
   ]
  },
  {
   "cell_type": "code",
   "execution_count": 28,
   "id": "chronic-disclaimer",
   "metadata": {},
   "outputs": [
    {
     "data": {
      "text/plain": [
       "257239"
      ]
     },
     "execution_count": 28,
     "metadata": {},
     "output_type": "execute_result"
    }
   ],
   "source": [
    "len(db.MES)"
   ]
  },
  {
   "cell_type": "code",
   "execution_count": 38,
   "id": "natural-sentence",
   "metadata": {},
   "outputs": [
    {
     "ename": "KeyError",
     "evalue": "0",
     "output_type": "error",
     "traceback": [
      "\u001b[1;31m---------------------------------------------------------------------------\u001b[0m",
      "\u001b[1;31mKeyError\u001b[0m                                  Traceback (most recent call last)",
      "\u001b[1;32m~\\Documents\\Automize\\env\\lib\\site-packages\\pandas\\core\\indexes\\base.py\u001b[0m in \u001b[0;36mget_loc\u001b[1;34m(self, key, method, tolerance)\u001b[0m\n\u001b[0;32m   3079\u001b[0m             \u001b[1;32mtry\u001b[0m\u001b[1;33m:\u001b[0m\u001b[1;33m\u001b[0m\u001b[1;33m\u001b[0m\u001b[0m\n\u001b[1;32m-> 3080\u001b[1;33m                 \u001b[1;32mreturn\u001b[0m \u001b[0mself\u001b[0m\u001b[1;33m.\u001b[0m\u001b[0m_engine\u001b[0m\u001b[1;33m.\u001b[0m\u001b[0mget_loc\u001b[0m\u001b[1;33m(\u001b[0m\u001b[0mcasted_key\u001b[0m\u001b[1;33m)\u001b[0m\u001b[1;33m\u001b[0m\u001b[1;33m\u001b[0m\u001b[0m\n\u001b[0m\u001b[0;32m   3081\u001b[0m             \u001b[1;32mexcept\u001b[0m \u001b[0mKeyError\u001b[0m \u001b[1;32mas\u001b[0m \u001b[0merr\u001b[0m\u001b[1;33m:\u001b[0m\u001b[1;33m\u001b[0m\u001b[1;33m\u001b[0m\u001b[0m\n",
      "\u001b[1;32mpandas\\_libs\\index.pyx\u001b[0m in \u001b[0;36mpandas._libs.index.IndexEngine.get_loc\u001b[1;34m()\u001b[0m\n",
      "\u001b[1;32mpandas\\_libs\\index.pyx\u001b[0m in \u001b[0;36mpandas._libs.index.IndexEngine.get_loc\u001b[1;34m()\u001b[0m\n",
      "\u001b[1;32mpandas\\_libs\\hashtable_class_helper.pxi\u001b[0m in \u001b[0;36mpandas._libs.hashtable.Int64HashTable.get_item\u001b[1;34m()\u001b[0m\n",
      "\u001b[1;32mpandas\\_libs\\hashtable_class_helper.pxi\u001b[0m in \u001b[0;36mpandas._libs.hashtable.Int64HashTable.get_item\u001b[1;34m()\u001b[0m\n",
      "\u001b[1;31mKeyError\u001b[0m: 0",
      "\nThe above exception was the direct cause of the following exception:\n",
      "\u001b[1;31mKeyError\u001b[0m                                  Traceback (most recent call last)",
      "\u001b[1;32m<ipython-input-38-1b3e4c415b7a>\u001b[0m in \u001b[0;36m<module>\u001b[1;34m\u001b[0m\n\u001b[1;32m----> 1\u001b[1;33m \u001b[0mdb\u001b[0m\u001b[1;33m.\u001b[0m\u001b[0mMES\u001b[0m\u001b[1;33m[\u001b[0m\u001b[1;36m0\u001b[0m\u001b[1;33m]\u001b[0m\u001b[1;33m\u001b[0m\u001b[1;33m\u001b[0m\u001b[0m\n\u001b[0m",
      "\u001b[1;32m~\\Documents\\Automize\\env\\lib\\site-packages\\pandas\\core\\series.py\u001b[0m in \u001b[0;36m__getitem__\u001b[1;34m(self, key)\u001b[0m\n\u001b[0;32m    851\u001b[0m \u001b[1;33m\u001b[0m\u001b[0m\n\u001b[0;32m    852\u001b[0m         \u001b[1;32melif\u001b[0m \u001b[0mkey_is_scalar\u001b[0m\u001b[1;33m:\u001b[0m\u001b[1;33m\u001b[0m\u001b[1;33m\u001b[0m\u001b[0m\n\u001b[1;32m--> 853\u001b[1;33m             \u001b[1;32mreturn\u001b[0m \u001b[0mself\u001b[0m\u001b[1;33m.\u001b[0m\u001b[0m_get_value\u001b[0m\u001b[1;33m(\u001b[0m\u001b[0mkey\u001b[0m\u001b[1;33m)\u001b[0m\u001b[1;33m\u001b[0m\u001b[1;33m\u001b[0m\u001b[0m\n\u001b[0m\u001b[0;32m    854\u001b[0m \u001b[1;33m\u001b[0m\u001b[0m\n\u001b[0;32m    855\u001b[0m         \u001b[1;32mif\u001b[0m \u001b[0mis_hashable\u001b[0m\u001b[1;33m(\u001b[0m\u001b[0mkey\u001b[0m\u001b[1;33m)\u001b[0m\u001b[1;33m:\u001b[0m\u001b[1;33m\u001b[0m\u001b[1;33m\u001b[0m\u001b[0m\n",
      "\u001b[1;32m~\\Documents\\Automize\\env\\lib\\site-packages\\pandas\\core\\series.py\u001b[0m in \u001b[0;36m_get_value\u001b[1;34m(self, label, takeable)\u001b[0m\n\u001b[0;32m    959\u001b[0m \u001b[1;33m\u001b[0m\u001b[0m\n\u001b[0;32m    960\u001b[0m         \u001b[1;31m# Similar to Index.get_value, but we do not fall back to positional\u001b[0m\u001b[1;33m\u001b[0m\u001b[1;33m\u001b[0m\u001b[1;33m\u001b[0m\u001b[0m\n\u001b[1;32m--> 961\u001b[1;33m         \u001b[0mloc\u001b[0m \u001b[1;33m=\u001b[0m \u001b[0mself\u001b[0m\u001b[1;33m.\u001b[0m\u001b[0mindex\u001b[0m\u001b[1;33m.\u001b[0m\u001b[0mget_loc\u001b[0m\u001b[1;33m(\u001b[0m\u001b[0mlabel\u001b[0m\u001b[1;33m)\u001b[0m\u001b[1;33m\u001b[0m\u001b[1;33m\u001b[0m\u001b[0m\n\u001b[0m\u001b[0;32m    962\u001b[0m         \u001b[1;32mreturn\u001b[0m \u001b[0mself\u001b[0m\u001b[1;33m.\u001b[0m\u001b[0mindex\u001b[0m\u001b[1;33m.\u001b[0m\u001b[0m_get_values_for_loc\u001b[0m\u001b[1;33m(\u001b[0m\u001b[0mself\u001b[0m\u001b[1;33m,\u001b[0m \u001b[0mloc\u001b[0m\u001b[1;33m,\u001b[0m \u001b[0mlabel\u001b[0m\u001b[1;33m)\u001b[0m\u001b[1;33m\u001b[0m\u001b[1;33m\u001b[0m\u001b[0m\n\u001b[0;32m    963\u001b[0m \u001b[1;33m\u001b[0m\u001b[0m\n",
      "\u001b[1;32m~\\Documents\\Automize\\env\\lib\\site-packages\\pandas\\core\\indexes\\base.py\u001b[0m in \u001b[0;36mget_loc\u001b[1;34m(self, key, method, tolerance)\u001b[0m\n\u001b[0;32m   3080\u001b[0m                 \u001b[1;32mreturn\u001b[0m \u001b[0mself\u001b[0m\u001b[1;33m.\u001b[0m\u001b[0m_engine\u001b[0m\u001b[1;33m.\u001b[0m\u001b[0mget_loc\u001b[0m\u001b[1;33m(\u001b[0m\u001b[0mcasted_key\u001b[0m\u001b[1;33m)\u001b[0m\u001b[1;33m\u001b[0m\u001b[1;33m\u001b[0m\u001b[0m\n\u001b[0;32m   3081\u001b[0m             \u001b[1;32mexcept\u001b[0m \u001b[0mKeyError\u001b[0m \u001b[1;32mas\u001b[0m \u001b[0merr\u001b[0m\u001b[1;33m:\u001b[0m\u001b[1;33m\u001b[0m\u001b[1;33m\u001b[0m\u001b[0m\n\u001b[1;32m-> 3082\u001b[1;33m                 \u001b[1;32mraise\u001b[0m \u001b[0mKeyError\u001b[0m\u001b[1;33m(\u001b[0m\u001b[0mkey\u001b[0m\u001b[1;33m)\u001b[0m \u001b[1;32mfrom\u001b[0m \u001b[0merr\u001b[0m\u001b[1;33m\u001b[0m\u001b[1;33m\u001b[0m\u001b[0m\n\u001b[0m\u001b[0;32m   3083\u001b[0m \u001b[1;33m\u001b[0m\u001b[0m\n\u001b[0;32m   3084\u001b[0m         \u001b[1;32mif\u001b[0m \u001b[0mtolerance\u001b[0m \u001b[1;32mis\u001b[0m \u001b[1;32mnot\u001b[0m \u001b[1;32mNone\u001b[0m\u001b[1;33m:\u001b[0m\u001b[1;33m\u001b[0m\u001b[1;33m\u001b[0m\u001b[0m\n",
      "\u001b[1;31mKeyError\u001b[0m: 0"
     ]
    }
   ],
   "source": [
    "db.MES[0]"
   ]
  },
  {
   "cell_type": "code",
   "execution_count": null,
   "id": "young-terrorist",
   "metadata": {},
   "outputs": [],
   "source": []
  }
 ],
 "metadata": {
  "kernelspec": {
   "display_name": "Python 3",
   "language": "python",
   "name": "python3"
  },
  "language_info": {
   "codemirror_mode": {
    "name": "ipython",
    "version": 3
   },
   "file_extension": ".py",
   "mimetype": "text/x-python",
   "name": "python",
   "nbconvert_exporter": "python",
   "pygments_lexer": "ipython3",
   "version": "3.9.2"
  }
 },
 "nbformat": 4,
 "nbformat_minor": 5
}
