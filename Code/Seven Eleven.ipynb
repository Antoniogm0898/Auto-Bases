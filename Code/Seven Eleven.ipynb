{
 "cells": [
  {
   "cell_type": "code",
   "execution_count": 8,
   "id": "delayed-routine",
   "metadata": {},
   "outputs": [],
   "source": [
    "def setUP(db):\n",
    "    firstRun = True\n",
    "    for index, row in db.iterrows():\n",
    "        key = row['Plaza.1'] + str(row['COD BARRAS']) + str(row['año'])\n",
    "        if firstRun:\n",
    "            res = list(OrderedDict.fromkeys(db.mes))\n",
    "            ez = row['Retornabilidad'] + str(row['Envase']) + str(row['Mililitros Unidad'])\n",
    "            if row['Marca'] == 'GUINNESS':\n",
    "                row['Proveedor'] = 'DIAGEO'\n",
    "            if row['Marca'] == 'CARLSBERG':\n",
    "                row['Proveedor'] = 'CARLSBERG'\n",
    "            data = [row['año'], row['Plaza.1'], row['Marca'], row['Empaque'], ez, key, row['Proveedor']]\n",
    "            name = ['Year', 'GZ', 'Line Extension', 'Multipack', 'EZ', 'key', 'Proveedor']\n",
    "            for value in res:\n",
    "                data.append(0)\n",
    "                name.append(value)\n",
    "            df = pd.DataFrame(data, name).T\n",
    "            table = df\n",
    "            firstRun = False\n",
    "        try:\n",
    "            month = row['mes']\n",
    "            val = table['key'][table['key'] == key].index[0]\n",
    "            table.loc[table.index[val], month] = row['HTLS']\n",
    "        except:\n",
    "            ez = row['Retornabilidad'] + str(row['Envase']) + str(row['Mililitros Unidad'])\n",
    "            data = [row['año'], row['Plaza.1'], row['Marca'], row['Empaque'], ez, key, row['Proveedor']]\n",
    "            name = ['Year', 'GZ', 'Line Extension', 'Multipack', 'EZ', 'key', 'Proveedor']\n",
    "            for value in res:\n",
    "                data.append(0)\n",
    "                name.append(value)\n",
    "            df = pd.DataFrame(data, name).T\n",
    "            table = pd.concat([table, df], axis = 0, ignore_index=True)\n",
    "            month = row['mes']\n",
    "            val = table['key'][table['key'] == key].index[0]\n",
    "            table.loc[table.index[val], month] = row['HTLS']\n",
    "    return table"
   ]
  },
  {
   "cell_type": "code",
   "execution_count": 9,
   "id": "champion-technician",
   "metadata": {},
   "outputs": [],
   "source": [
    "def printTable(db, canalInt, canal, region, gz1, fabricante, marca_hom, ext_marca_hom,  diamante_precio_est, tipo_liq_est, liq, presentacion, canalMA, marca_hom2, ext_marca_hom2, diamante_precio_hom, returnability, packtypeHOM, primaryPackGroup, groupPacksize, packSizeHOM, packtypeOk2, categorias, packSize1Home, pConcatenado1, pConcatenado2, manu, priceTierCMI, categoryCMI, alcoholSegmentsCMI, liquidSegmentsCMI, brandCondition, topLineSOg, secondarySOg):\n",
    "    data = [db.Year, canalInt, canal, region, gz1, fabricante, marca_hom, ext_marca_hom,  diamante_precio_est, tipo_liq_est, liq, presentacion, db.Multipack, canalMA, marca_hom2, ext_marca_hom2, diamante_precio_hom, returnability, packtypeHOM, primaryPackGroup, groupPacksize, packSizeHOM, packtypeOk2, categorias, packSize1Home, pConcatenado1, pConcatenado2, manu, priceTierCMI, categoryCMI, alcoholSegmentsCMI, liquidSegmentsCMI, brandCondition, topLineSOg, secondarySOg]\n",
    "    name = ['AÑO', 'CANAL INTEGRADO', 'CANAL', 'REGION', 'GZ', 'FABRICANTE', 'MARCA_EST', 'EXT_MARCA_EST', 'DIAMANTE_PRECIO_EST', 'TIPO_LIQ_EST', 'LIQ', 'PRESENTACION', 'UNIDADES_EMPAQUE', 'CANAL_MA', 'MARCA_HOM', 'EXT_MARCA_HOM', 'DIAMANTE_PRECIO_HOM', 'Retunability', 'Packtype_HOM', 'Primary_Packtype_Group', 'Group_Packsize', 'Packsize_HOM', 'PACKTYPE_OK_2', 'Categorias', 'Packsize1_HOME', 'Packsize_concatenado1', 'Packsize_concatenado2', 'Manufacturer_CMI', 'Price_Tier_CMI', 'Category_CMI', 'Alcohol_Segments_CMI', 'Liquid_Segment_CMI', 'BRAND_CONDITION', 'Primary_Source_of_Growth', 'Secondary_Source_of_Growth']\n",
    "    g = db.iloc[:,7:]\n",
    "    monthlyValues = g.columns.tolist()\n",
    "    for month in monthlyValues:\n",
    "        data.append(db[month])\n",
    "        name.append(month)\n",
    "    df = pd.DataFrame(data, name).T\n",
    "    df.to_excel(\"Seven Eleven.xlsx\", index = False)"
   ]
  },
  {
   "cell_type": "code",
   "execution_count": 11,
   "id": "disturbed-network",
   "metadata": {},
   "outputs": [
    {
     "name": "stdout",
     "output_type": "stream",
     "text": [
      "1.Base Off Modern Marzo 2021.xlsx\n",
      "2.Base Scantrack Marzo 2021.xlsx\n",
      "3.CatalagoScantrack.xlsx\n",
      "4.Catalogo711.xlsx\n",
      "5.CatalogoADFy3B.xlsx\n",
      "6.CatalogoCerveza.xlsx\n",
      "7.CatalogoCidra.xlsx\n",
      "8.CatalogoOxxo.xlsx\n",
      "9.CatalogoSIX.xlsx\n",
      "10.Check spaces.xlsx\n",
      "11.Input711.xlsx\n",
      "12.InputADFy3B.xlsx\n",
      "13.InputCerveza.xlsx\n",
      "14.InputCidra.xlsx\n",
      "15.InputOxxo.xlsx\n",
      "16.InputSIX.xlsx\n",
      "17.SellOutRegion.xlsx\n",
      "18.SellOutSix.xlsx\n",
      "19.~$Base Scantrack Marzo 2021.xlsx\n",
      "20.~$CatalagoScantrack.xlsx\n",
      "21.~$Catalogo711.xlsx\n",
      "22.~$CatalogoADFy3B.xlsx\n",
      "23.~$CatalogoOxxo.xlsx\n",
      "24.~$Input711.xlsx\n",
      "25.~$InputCidra.xlsx\n",
      "Seleccione el numero del archivo:  Input base: 7 Eleven\n",
      "En caso de no tener el archivo en data puede ingresar el directorio\n",
      "11\n",
      "El documento se ha creado con exito!\n"
     ]
    }
   ],
   "source": [
    "generateDatabase()"
   ]
  },
  {
   "cell_type": "code",
   "execution_count": null,
   "id": "loose-australia",
   "metadata": {},
   "outputs": [],
   "source": []
  }
 ],
 "metadata": {
  "kernelspec": {
   "display_name": "Python 3",
   "language": "python",
   "name": "python3"
  },
  "language_info": {
   "codemirror_mode": {
    "name": "ipython",
    "version": 3
   },
   "file_extension": ".py",
   "mimetype": "text/x-python",
   "name": "python",
   "nbconvert_exporter": "python",
   "pygments_lexer": "ipython3",
   "version": "3.9.5"
  }
 },
 "nbformat": 4,
 "nbformat_minor": 5
}
