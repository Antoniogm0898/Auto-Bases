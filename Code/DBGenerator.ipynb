{
 "cells": [
  {
   "cell_type": "code",
   "execution_count": 75,
   "metadata": {},
   "outputs": [],
   "source": [
    "import pandas as pd\n",
    "from random import randint"
   ]
  },
  {
   "cell_type": "code",
   "execution_count": 76,
   "metadata": {},
   "outputs": [],
   "source": [
    "def generateADFy3B():\n",
    "    rng = 5000\n",
    "    cc = [\"3 BBB\", \"ADF\"]\n",
    "    reg = [\"Centro\", \"Noroeste\", \"Sur\"]\n",
    "    gz = [\"Cd. Mx\", \"Mty\", \"Tamaulipas\", \"Veracruz\", \"Jalisco\"]\n",
    "    brn = [\"Marca1\", \"Marca2\", \"Marca3\", \"Marca4\", \"Marca5\"]\n",
    "    le = [\"Producto1\", \"Producto2\", \"Producto3\", \"Producto4\", \"Producto5\"]\n",
    "    seg = [\"Alto\", \"Bajo\", \"Promedio\", \"Premium\"]\n",
    "    est = [\"Estilo1\", \"Estilo2\", \"Estilo3\", \"Estilo4\"]\n",
    "    pre = [\"Presentacion1\", \"Presentacion2\", \"Presentacion3\", \"Presentacion4\", \"Presentacion5\"]\n",
    "    mul = [\"Empaque1\", \"Empaque2\", \"Empaque3\", \"Empaque4\", \"Empaque5\"]\n",
    "    flag = True\n",
    "    clienteCadena = []\n",
    "    region = []\n",
    "    gzz = []\n",
    "    marca = []\n",
    "    lineextension = []\n",
    "    segment = []\n",
    "    estilo = []\n",
    "    presentacion = []\n",
    "    multipacks = []\n",
    "    en20 = []\n",
    "    fe20 = []\n",
    "    ma20 = []\n",
    "    en21 = []\n",
    "    fe21 = []\n",
    "    ma21 = []\n",
    "    for x in range(rng):\n",
    "        clienteCadena.append(cc[randint(0, 1)])\n",
    "        region.append(reg[randint(0, 2)])\n",
    "        gzz.append(gz[randint(0, 4)])\n",
    "        marca.append(brn[randint(0, 4)])\n",
    "        lineextension.append(le[randint(0, 4)])\n",
    "        segment.append(seg[randint(0, 3)])\n",
    "        estilo.append(est[randint(0, 3)])\n",
    "        presentacion.append(pre[randint(0, 4)])\n",
    "        multipacks.append(mul[randint(0, 4)])\n",
    "        en20.append(randint(0, 2000))\n",
    "        fe20.append(randint(0, 2000))\n",
    "        ma20.append(randint(0, 2000))\n",
    "        en21.append(randint(0, 2000))\n",
    "        fe21.append(randint(0, 2000))\n",
    "        ma21.append(randint(0, 2000))\n",
    "        \n",
    "    data = [clienteCadena, region, gzz, marca, lineextension, segment, estilo, presentacion, multipacks, en21, fe21, ma21, en20, fe20, ma20]\n",
    "    names = [\"Cliente Cadena\", \"Region\", \"GZ\", \"Brand\", \"Line Extension\", \"Segment\", \"Styles\", \"Presentación CMM\", \"Multipacks\", \"Enero 21\", \"Febrero 21\", \"Marzo 21\", \"Enero 20\", \"Febrero 20\", \"Marzo 20\"]\n",
    "    df = pd.DataFrame(data, names).T\n",
    "    df.to_excel(\"../Input/InputADF&3B.xlsx\", index = False)"
   ]
  },
  {
   "cell_type": "code",
   "execution_count": 87,
   "metadata": {},
   "outputs": [],
   "source": [
    "def generate(num):\n",
    "    rng = 5000\n",
    "    ms = [\"Enero\", \"Febrero\", \"Marzo\"]\n",
    "    cc = [\"3 BBB\", \"ADF\"]\n",
    "    reg = [\"Centro\", \"Noroeste\", \"Sur\", \"Este\", \"Norte\"]\n",
    "    ofv = [\"JV - 1\", \"JV - 2\", \"JV - 3\", \"JV - 4\", \"JV - 5\"]\n",
    "    gz = [\"Cd. Mx\", \"Mty\", \"Veracruz\", \"Jalisco\", \"Oaxaca\"]\n",
    "    brn = [\"Marca1\", \"Marca2\", \"Marca3\", \"Marca4\", \"Marca5\"]\n",
    "    le = [\"Producto1\", \"Producto2\", \"Producto3\", \"Producto4\", \"Producto5\"]\n",
    "    seg = [\"Alto\", \"Bajo\", \"Promedio\", \"Premium\"]\n",
    "    ret = [\"Returnable\", \"Non Returnable\"]\n",
    "    ptyp = [\"Pk1\", \"Pk2\", \"Pk3\"]\n",
    "    pgp = [\"Pg1\", \"Pg2\"]\n",
    "    hemx = [\"HPk1\", \"HPk2\", \"HPk3\"]\n",
    "    ps = [\"Grande\", \"Mediano\", \"Chico\"]\n",
    "    mul = [\"24 pk\", \"12 pk\"]\n",
    "    flag = True\n",
    "    quarter = []\n",
    "    year = []\n",
    "    month = []\n",
    "    dr = [] \n",
    "    gzz = []\n",
    "    ofvDesc = []\n",
    "    marca = []\n",
    "    lineextension = []\n",
    "    segment = []\n",
    "    returnability = []\n",
    "    packtype = []\n",
    "    packgroup = []\n",
    "    hmexPack = []\n",
    "    packSize = []\n",
    "    sku = []\n",
    "    multipacks = []\n",
    "    ma21 = []\n",
    "    for x in range(rng):\n",
    "        quarter.append(\"Q1\")\n",
    "        year.append(\"2021\")\n",
    "        month.append(ms[randint(0, 2)]) \n",
    "        dr.append(reg[randint(0, 4)])\n",
    "        gzz.append(gz[randint(0, 4)])\n",
    "        ofvDesc.append(ofv[randint(0, 4)])\n",
    "        marca.append(brn[randint(0, 4)])\n",
    "        lineextension.append(le[randint(0, 4)])\n",
    "        segment.append(seg[randint(0, 3)])\n",
    "        returnability.append(ret[randint(0, 1)]) \n",
    "        packtype.append(ptyp[randint(0, 2)])\n",
    "        packgroup.append(pgp[randint(0, 1)])\n",
    "        hmexPack.append(hemx[randint(0, 2)])\n",
    "        packSize.append(ps[randint(0, 2)])\n",
    "        sku.append(randint(0, 99999))\n",
    "        multipacks.append(mul[randint(0, 1)])\n",
    "        ma21.append(randint(0, 2000))\n",
    "        \n",
    "    names = [\"Quarter\", \"Year\", \"Month\", \"DR\", \"GZ Split TVN-VDM\", \"OFV Description\", \"Brand\", \"Line Extension\", \"Price Segment\", \"Returnability\", \"Primary Pack Type\", \"Primary Pack Group\", \"HMex Pack Group\", \"Pack Size\", \"SKU\", \"Multipack\", \"Value\"]\n",
    "    data = [quarter, year, month, dr, gzz, ofvDesc, marca, lineextension, segment, returnability, packtype, packgroup, hmexPack, packSize, sku, multipacks, ma21]\n",
    "    df = pd.DataFrame(data, names).T\n",
    "    if num == 0:\n",
    "        df.to_excel(\"../Input/InputOxxo.xlsx\", index = False)\n",
    "    else:\n",
    "        df.to_excel(\"../Input/InputSIX.xlsx\", index = False)"
   ]
  },
  {
   "cell_type": "code",
   "execution_count": 88,
   "metadata": {},
   "outputs": [],
   "source": [
    "def generate711(num):\n",
    "    rng = 5000\n",
    "    \n",
    "    ms = [\"Enero\", \"Febrero\", \"Marzo\"]\n",
    "    cc = [\"3 BBB\", \"ADF\"]\n",
    "    reg = [\"Centro\", \"Noroeste\", \"Sur\", \"Este\", \"Norte\"]\n",
    "    ofv = [\"JV - 1\", \"JV - 2\", \"JV - 3\", \"JV - 4\", \"JV - 5\"]\n",
    "    gz = [\"Cd. Mx\", \"Mty\", \"Veracruz\", \"Jalisco\", \"Oaxaca\"]\n",
    "    brn = [\"Marca1\", \"Marca2\", \"Marca3\", \"Marca4\", \"Marca5\"]\n",
    "    le = [\"Producto1\", \"Producto2\", \"Producto3\", \"Producto4\", \"Producto5\"]\n",
    "    seg = [\"Alto\", \"Bajo\", \"Promedio\", \"Premium\"]\n",
    "    ret = [\"Returnable\", \"Non Returnable\"]\n",
    "    ptyp = [\"Pk1\", \"Pk2\", \"Pk3\"]\n",
    "    pgp = [\"Pg1\", \"Pg2\"]\n",
    "    hemx = [\"HPk1\", \"HPk2\", \"HPk3\"]\n",
    "    ps = [\"Grande\", \"Mediano\", \"Chico\"]\n",
    "    mul = [\"24 pk\", \"12 pk\"]\n",
    "    flag = True\n",
    "    quarter = []\n",
    "    year = []\n",
    "    month = []\n",
    "    dr = [] \n",
    "    gzz = []\n",
    "    ofvDesc = []\n",
    "    marca = []\n",
    "    lineextension = []\n",
    "    segment = []\n",
    "    returnability = []\n",
    "    packtype = []\n",
    "    packgroup = []\n",
    "    hmexPack = []\n",
    "    packSize = []\n",
    "    sku = []\n",
    "    multipacks = []\n",
    "    ma21 = []\n",
    "    for x in range(rng):\n",
    "        quarter.append(\"Q1\")\n",
    "        year.append(\"2021\")\n",
    "        month.append(ms[randint(0, 2)]) \n",
    "        dr.append(reg[randint(0, 4)])\n",
    "        gzz.append(gz[randint(0, 4)])\n",
    "        ofvDesc.append(ofv[randint(0, 4)])\n",
    "        marca.append(brn[randint(0, 4)])\n",
    "        lineextension.append(le[randint(0, 4)])\n",
    "        segment.append(seg[randint(0, 3)])\n",
    "        returnability.append(ret[randint(0, 1)]) \n",
    "        packtype.append(ptyp[randint(0, 2)])\n",
    "        packgroup.append(pgp[randint(0, 1)])\n",
    "        hmexPack.append(hemx[randint(0, 2)])\n",
    "        packSize.append(ps[randint(0, 2)])\n",
    "        sku.append(randint(0, 99999))\n",
    "        multipacks.append(mul[randint(0, 1)])\n",
    "        ma21.append(randint(0, 2000))\n",
    "        \n",
    "    names = [\"Quarter\", \"Year\", \"Month\", \"DR\", \"GZ Split TVN-VDM\", \"OFV Description\", \"Brand\", \"Line Extension\", \"Price Segment\", \"Returnability\", \"Primary Pack Type\", \"Primary Pack Group\", \"HMex Pack Group\", \"Pack Size\", \"SKU\", \"Multipack\", \"Value\"]\n",
    "    data = [quarter, year, month, dr, gzz, ofvDesc, marca, lineextension, segment, returnability, packtype, packgroup, hmexPack, packSize, sku, multipacks, ma21]\n",
    "    df = pd.DataFrame(data, names).T\n",
    "    if num == 0:\n",
    "        df.to_excel(\"../Input/InputOxxo.xlsx\", index = False)\n",
    "    else:\n",
    "        df.to_excel(\"../Input/InputSIX.xlsx\", index = False)"
   ]
  },
  {
   "cell_type": "code",
   "execution_count": 89,
   "metadata": {},
   "outputs": [],
   "source": [
    "def generateAll():\n",
    "    generateADFy3B()\n",
    "    generate(0)\n",
    "    generate(1)"
   ]
  },
  {
   "cell_type": "code",
   "execution_count": 90,
   "metadata": {},
   "outputs": [],
   "source": [
    "ma21.append(randint(0, 2000))"
   ]
  },
  {
   "cell_type": "code",
   "execution_count": 91,
   "metadata": {},
   "outputs": [],
   "source": [
    "ma21 = []"
   ]
  },
  {
   "cell_type": "code",
   "execution_count": 92,
   "metadata": {},
   "outputs": [
    {
     "data": {
      "text/plain": [
       "[]"
      ]
     },
     "execution_count": 92,
     "metadata": {},
     "output_type": "execute_result"
    }
   ],
   "source": [
    "ma21"
   ]
  },
  {
   "cell_type": "code",
   "execution_count": 93,
   "metadata": {},
   "outputs": [],
   "source": [
    "generateAll()"
   ]
  },
  {
   "cell_type": "code",
   "execution_count": null,
   "metadata": {},
   "outputs": [],
   "source": []
  }
 ],
 "metadata": {
  "kernelspec": {
   "display_name": "Python 3",
   "language": "python",
   "name": "python3"
  },
  "language_info": {
   "codemirror_mode": {
    "name": "ipython",
    "version": 3
   },
   "file_extension": ".py",
   "mimetype": "text/x-python",
   "name": "python",
   "nbconvert_exporter": "python",
   "pygments_lexer": "ipython3",
   "version": "3.8.5"
  }
 },
 "nbformat": 4,
 "nbformat_minor": 4
}
