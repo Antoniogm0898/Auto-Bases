{
 "cells": [
  {
   "cell_type": "code",
   "execution_count": 51,
   "id": "material-chamber",
   "metadata": {},
   "outputs": [],
   "source": [
    "import os\n",
    "import sys\n",
    "import pandas as pd"
   ]
  },
  {
   "cell_type": "code",
   "execution_count": 59,
   "id": "global-norman",
   "metadata": {},
   "outputs": [],
   "source": [
    "def openDataFile(name):\n",
    "    entries = os.listdir('data/')\n",
    "    i = 1\n",
    "    for v in entries:\n",
    "        print(str(i) + '.'+v)\n",
    "        i = i + 1\n",
    "    print('Seleccione el numero del archivo ', name)\n",
    "    print('En caso de no tener el archivo en data puede ingresar el directorio')\n",
    "    aux = input()\n",
    "    if len(aux) <= 5:\n",
    "        i = 1\n",
    "        for v in entries:\n",
    "            if aux == str(i):\n",
    "                return pd.read_excel('data/' + v), v\n",
    "            i = i + 1\n",
    "    else: \n",
    "        return pd.read_excel(v)"
   ]
  },
  {
   "cell_type": "code",
   "execution_count": 90,
   "id": "noticed-accountability",
   "metadata": {},
   "outputs": [],
   "source": [
    "def removeSpaces():\n",
    "    file, docName = openDataFile(\"para revisar.\")\n",
    "    cont = 0\n",
    "    print(docName)\n",
    "    for columna in file:\n",
    "        for value in file[columna]:\n",
    "            aux = str(value)\n",
    "            if aux[-1] == \" \":\n",
    "                file[columna] = file[columna].replace(value, value[:-1])\n",
    "                cont = cont + 1\n",
    "                    \n",
    "    file.to_excel(docName, index = False)\n",
    "        \n",
    "    if cont == 0:\n",
    "        print(\"No se encontraron errores\")\n",
    "    else:\n",
    "        print(\"Se encontraron: \"  + str(cont) + \" errores\")"
   ]
  },
  {
   "cell_type": "code",
   "execution_count": 91,
   "id": "offshore-algorithm",
   "metadata": {
    "scrolled": true
   },
   "outputs": [
    {
     "name": "stdout",
     "output_type": "stream",
     "text": [
      "1.Base Off Modern Marzo 2021.xlsx\n",
      "2.Base Scantrack Marzo 2021.xlsx\n",
      "3.Catalogo711.xlsx\n",
      "4.CatalogoADFy3B .xlsx\n",
      "5.CatalogoADFy3B.xlsx\n",
      "6.CatalogoCerveza.xlsx\n",
      "7.CatalogoCidra.xlsx\n",
      "8.CatalogoOxxo.xlsx\n",
      "9.CatalogoSIX.xlsx\n",
      "10.Check spaces.xlsx\n",
      "11.Input711.xlsx\n",
      "12.InputADFy3B.xlsx\n",
      "13.InputCerveza.xlsx\n",
      "14.InputCidra.xlsx\n",
      "15.InputOxxo.xlsx\n",
      "16.InputSIX.xlsx\n",
      "17.SellOutRegion.xlsx\n",
      "18.SellOutSix.xlsx\n",
      "19.~$Catalogo711.xlsx\n",
      "20.~$CatalogoADFy3B.xlsx\n",
      "21.~$CatalogoOxxo.xlsx\n",
      "22.~$Input711.xlsx\n",
      "23.~$InputCidra.xlsx\n",
      "Seleccione el numero del archivo  para revisar.\n",
      "En caso de no tener el archivo en data puede ingresar el directorio\n",
      "10\n",
      "Check spaces.xlsx\n",
      "Se encontraron: 9 errores\n"
     ]
    }
   ],
   "source": [
    "removeSpaces()"
   ]
  },
  {
   "cell_type": "code",
   "execution_count": null,
   "id": "steady-romance",
   "metadata": {},
   "outputs": [],
   "source": []
  }
 ],
 "metadata": {
  "kernelspec": {
   "display_name": "Python 3",
   "language": "python",
   "name": "python3"
  },
  "language_info": {
   "codemirror_mode": {
    "name": "ipython",
    "version": 3
   },
   "file_extension": ".py",
   "mimetype": "text/x-python",
   "name": "python",
   "nbconvert_exporter": "python",
   "pygments_lexer": "ipython3",
   "version": "3.9.2"
  }
 },
 "nbformat": 4,
 "nbformat_minor": 5
}
